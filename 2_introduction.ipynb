{
 "cells": [
  {
   "cell_type": "markdown",
   "metadata": {},
   "source": [
    "# 続 Python 入門"
   ]
  },
  {
   "cell_type": "code",
   "execution_count": 1,
   "metadata": {
    "collapsed": false
   },
   "outputs": [
    {
     "name": "stdout",
     "output_type": "stream",
     "text": [
      "True\n",
      "False\n"
     ]
    }
   ],
   "source": [
    "print 1 == 1 and 2 == 2\n",
    "print 1 == 1 and 1 == 2"
   ]
  },
  {
   "cell_type": "code",
   "execution_count": 2,
   "metadata": {
    "collapsed": false
   },
   "outputs": [
    {
     "name": "stdout",
     "output_type": "stream",
     "text": [
      "True\n"
     ]
    }
   ],
   "source": [
    "print 1 == 1 or 1 == 2"
   ]
  },
  {
   "cell_type": "code",
   "execution_count": 3,
   "metadata": {
    "collapsed": false
   },
   "outputs": [
    {
     "name": "stdout",
     "output_type": "stream",
     "text": [
      "[0, 1, 2, 3, 4, 5, 6, 7, 8, 9]\n"
     ]
    }
   ],
   "source": [
    "xs = range(10)\n",
    "print xs"
   ]
  },
  {
   "cell_type": "code",
   "execution_count": 4,
   "metadata": {
    "collapsed": false
   },
   "outputs": [
    {
     "name": "stdout",
     "output_type": "stream",
     "text": [
      "True\n",
      "True\n"
     ]
    }
   ],
   "source": [
    "print all(x < 10 for x in xs)\n",
    "print any(x % 2 == 0 for x in xs)"
   ]
  },
  {
   "cell_type": "code",
   "execution_count": 5,
   "metadata": {
    "collapsed": false
   },
   "outputs": [
    {
     "name": "stdout",
     "output_type": "stream",
     "text": [
      "1\n",
      "1.0\n",
      "345\n"
     ]
    },
    {
     "data": {
      "text/plain": [
       "'12'"
      ]
     },
     "execution_count": 5,
     "metadata": {},
     "output_type": "execute_result"
    }
   ],
   "source": [
    "print int(1.2)  # round()\n",
    "print float(1)  # (double) 1\n",
    "print int('345')  # atoi()\n",
    "str(12)"
   ]
  },
  {
   "cell_type": "code",
   "execution_count": 6,
   "metadata": {
    "collapsed": false
   },
   "outputs": [
    {
     "name": "stdout",
     "output_type": "stream",
     "text": [
      "['10', '12', '14', '16']\n",
      "[10, 12, 14, 16]\n"
     ]
    }
   ],
   "source": [
    "# CSV: comma-separated values\n",
    "csv_data = '10,12,14,16'\n",
    "print csv_data.split(',')  # ['10', '12', '14', '16']\n",
    "print map(int, csv_data.split(','))  # [int('10'), int('12'), int('14'), ...]"
   ]
  },
  {
   "cell_type": "code",
   "execution_count": 7,
   "metadata": {
    "collapsed": false
   },
   "outputs": [
    {
     "name": "stdout",
     "output_type": "stream",
     "text": [
      "['10', '12', '14', '16']\n",
      "10,12,14,16\n"
     ]
    }
   ],
   "source": [
    "xs = [10, 12, 14, 16]\n",
    "print map(str, xs)\n",
    "print ','.join(map(str, xs))"
   ]
  },
  {
   "cell_type": "code",
   "execution_count": 8,
   "metadata": {
    "collapsed": false
   },
   "outputs": [
    {
     "name": "stdout",
     "output_type": "stream",
     "text": [
      "﻿Project Gutenberg’s Alice’s Adventures in Wonderland, by Lewis Carroll\n",
      "\n",
      "\n",
      "\n",
      "This eBook is for the use of anyone anywhere at no cost and with\n",
      "\n",
      "almost no restrictions whatsoever.  You may copy it, give it away or\n",
      "\n",
      "re-use it under the terms of the Project Gutenberg License included\n",
      "\n",
      "with this eBook or online at www.gutenberg.org\n",
      "\n",
      "\n",
      "\n",
      "\n",
      "\n",
      "Title: Alice’s Adventures in Wonderland\n",
      "\n",
      "\n",
      "\n",
      "Author: Lewis Carroll\n",
      "\n"
     ]
    }
   ],
   "source": [
    "with open('11-0.txt') as f:  # fd = open(\"11-0.txt\", \"r\")\n",
    "    i = 0\n",
    "    for line in f:\n",
    "        print line\n",
    "        i += 1\n",
    "        if i > 10:\n",
    "            break"
   ]
  },
  {
   "cell_type": "code",
   "execution_count": 9,
   "metadata": {
    "collapsed": false
   },
   "outputs": [
    {
     "name": "stdout",
     "output_type": "stream",
     "text": [
      "3736\n"
     ]
    }
   ],
   "source": [
    "with open('11-0.txt') as f:\n",
    "    num_lines = 0\n",
    "    for _ in f:\n",
    "        num_lines += 1\n",
    "print num_lines"
   ]
  },
  {
   "cell_type": "code",
   "execution_count": 10,
   "metadata": {
    "collapsed": false
   },
   "outputs": [
    {
     "name": "stdout",
     "output_type": "stream",
     "text": [
      "2791\n"
     ]
    }
   ],
   "source": [
    "with open('11-0.txt') as f:\n",
    "    num_lines = 0\n",
    "    for line in f:\n",
    "        line = line.strip()\n",
    "        if line:\n",
    "            num_lines += 1\n",
    "print num_lines"
   ]
  },
  {
   "cell_type": "code",
   "execution_count": 11,
   "metadata": {
    "collapsed": false
   },
   "outputs": [
    {
     "name": "stdout",
     "output_type": "stream",
     "text": [
      "empty\n"
     ]
    },
    {
     "data": {
      "text/plain": [
       "'extra space'"
      ]
     },
     "execution_count": 11,
     "metadata": {},
     "output_type": "execute_result"
    }
   ],
   "source": [
    "s = ''\n",
    "if s:\n",
    "    print 'not empty'\n",
    "else:\n",
    "    print 'empty'\n",
    "\n",
    "' extra space   '.strip()  # 行頭、行末の空白文字、改行コードを除去"
   ]
  },
  {
   "cell_type": "code",
   "execution_count": 12,
   "metadata": {
    "collapsed": false
   },
   "outputs": [
    {
     "data": {
      "text/plain": [
       "['__add__',\n",
       " '__class__',\n",
       " '__contains__',\n",
       " '__delattr__',\n",
       " '__doc__',\n",
       " '__eq__',\n",
       " '__format__',\n",
       " '__ge__',\n",
       " '__getattribute__',\n",
       " '__getitem__',\n",
       " '__getnewargs__',\n",
       " '__getslice__',\n",
       " '__gt__',\n",
       " '__hash__',\n",
       " '__init__',\n",
       " '__le__',\n",
       " '__len__',\n",
       " '__lt__',\n",
       " '__mod__',\n",
       " '__mul__',\n",
       " '__ne__',\n",
       " '__new__',\n",
       " '__reduce__',\n",
       " '__reduce_ex__',\n",
       " '__repr__',\n",
       " '__rmod__',\n",
       " '__rmul__',\n",
       " '__setattr__',\n",
       " '__sizeof__',\n",
       " '__str__',\n",
       " '__subclasshook__',\n",
       " '_formatter_field_name_split',\n",
       " '_formatter_parser',\n",
       " 'capitalize',\n",
       " 'center',\n",
       " 'count',\n",
       " 'decode',\n",
       " 'encode',\n",
       " 'endswith',\n",
       " 'expandtabs',\n",
       " 'find',\n",
       " 'format',\n",
       " 'index',\n",
       " 'isalnum',\n",
       " 'isalpha',\n",
       " 'isdigit',\n",
       " 'islower',\n",
       " 'isspace',\n",
       " 'istitle',\n",
       " 'isupper',\n",
       " 'join',\n",
       " 'ljust',\n",
       " 'lower',\n",
       " 'lstrip',\n",
       " 'partition',\n",
       " 'replace',\n",
       " 'rfind',\n",
       " 'rindex',\n",
       " 'rjust',\n",
       " 'rpartition',\n",
       " 'rsplit',\n",
       " 'rstrip',\n",
       " 'split',\n",
       " 'splitlines',\n",
       " 'startswith',\n",
       " 'strip',\n",
       " 'swapcase',\n",
       " 'title',\n",
       " 'translate',\n",
       " 'upper',\n",
       " 'zfill']"
      ]
     },
     "execution_count": 12,
     "metadata": {},
     "output_type": "execute_result"
    }
   ],
   "source": [
    "dir('abc')"
   ]
  },
  {
   "cell_type": "code",
   "execution_count": 13,
   "metadata": {
    "collapsed": false
   },
   "outputs": [
    {
     "name": "stdout",
     "output_type": "stream",
     "text": [
      "this ebook is for the use of anyone anywhere at no cost and with\n",
      "['this', 'ebook', 'is', 'for', 'the', 'use', 'of', 'anyone', 'anywhere', 'at', 'no', 'cost', 'and', 'with']\n",
      "{'and': 1, 'use': 1, 'cost': 1, 'for': 1, 'no': 1, 'this': 1, 'of': 1, 'is': 1, 'ebook': 1, 'anyone': 1, 'anywhere': 1, 'at': 1, 'the': 1, 'with': 1}\n"
     ]
    }
   ],
   "source": [
    "s = 'This eBook is for the use of anyone anywhere at no cost and with'\n",
    "print s.lower()\n",
    "print s.lower().split()\n",
    "count = {}\n",
    "for word in s.lower().split():\n",
    "    count[word] = count.get(word, 0) + 1\n",
    "print count"
   ]
  },
  {
   "cell_type": "code",
   "execution_count": 14,
   "metadata": {
    "collapsed": false
   },
   "outputs": [
    {
     "name": "stdout",
     "output_type": "stream",
     "text": [
      "!\"#$%&'()*+,-./:;<=>?@[\\]^_`{|}~\n",
      "['{', \"'\", 'a', 'n', 'd', \"'\", ':', ' ', '1', ',', ' ', \"'\", 'u', 's', 'e', \"'\", ':', ' ', '1', '}']\n",
      "['a', 'n', 'd', ' ', '1', ' ', 'u', 's', 'e', ' ', '1']\n",
      "['and', '1', 'use', '1']\n"
     ]
    }
   ],
   "source": [
    "import string\n",
    "print string.punctuation\n",
    "s = \"{'and': 1, 'use': 1}\"\n",
    "print [c for c in s]\n",
    "print [c for c in s if c not in string.punctuation]\n",
    "print ''.join([c for c in s if c not in string.punctuation]).split()"
   ]
  },
  {
   "cell_type": "code",
   "execution_count": 15,
   "metadata": {
    "collapsed": true
   },
   "outputs": [],
   "source": [
    "stopwords = set(['i', 'me', 'my', 'myself', 'we', 'our', 'ours', 'ourselves', 'you', 'your', 'yours',\n",
    "'yourself', 'yourselves', 'he', 'him', 'his', 'himself', 'she', 'her', 'hers',\n",
    "'herself', 'it', 'its', 'itself', 'they', 'them', 'their', 'theirs', 'themselves',\n",
    "'what', 'which', 'who', 'whom', 'this', 'that', 'these', 'those', 'am', 'is', 'are',\n",
    "'was', 'were', 'be', 'been', 'being', 'have', 'has', 'had', 'having', 'do', 'does',\n",
    "'did', 'doing', 'a', 'an', 'the', 'and', 'but', 'if', 'or', 'because', 'as', 'until',\n",
    "'while', 'of', 'at', 'by', 'for', 'with', 'about', 'against', 'between', 'into',\n",
    "'through', 'during', 'before', 'after', 'above', 'below', 'to', 'from', 'up', 'down',\n",
    "'in', 'out', 'on', 'off', 'over', 'under', 'again', 'further', 'then', 'once', 'here',\n",
    "'there', 'when', 'where', 'why', 'how', 'all', 'any', 'both', 'each', 'few', 'more',\n",
    "'most', 'other', 'some', 'such', 'no', 'nor', 'not', 'only', 'own', 'same', 'so',\n",
    "'than', 'too', 'very', 's', 't', 'can', 'will', 'just', 'don', 'should', 'now'])"
   ]
  },
  {
   "cell_type": "code",
   "execution_count": 16,
   "metadata": {
    "collapsed": true
   },
   "outputs": [],
   "source": [
    "count = {}\n",
    "punctuation = string.punctuation + '\\xe2\\x80\\x99\\xe2\\x80\\x9d\\xe2\\x80\\x98\\xe2\\x80\\x9c'\n",
    "with open('11-0.txt') as f:\n",
    "    for line in f:\n",
    "        line = line.strip().lower()\n",
    "        words = ''.join([c for c in line if c not in punctuation]).split()\n",
    "        for word in words:\n",
    "            if not word.isdigit() and word not in stopwords:\n",
    "                count[word] = count.get(word, 0) + 1"
   ]
  },
  {
   "cell_type": "code",
   "execution_count": 17,
   "metadata": {
    "collapsed": false
   },
   "outputs": [
    {
     "name": "stdout",
     "output_type": "stream",
     "text": [
      "385\n",
      "43\n"
     ]
    }
   ],
   "source": [
    "print count['alice']\n",
    "print count['rabbit']"
   ]
  },
  {
   "cell_type": "code",
   "execution_count": 18,
   "metadata": {
    "collapsed": false
   },
   "outputs": [
    {
     "name": "stdout",
     "output_type": "stream",
     "text": [
      "’”‘“\n"
     ]
    }
   ],
   "source": [
    "print '\\xe2\\x80\\x99\\xe2\\x80\\x9d\\xe2\\x80\\x98\\xe2\\x80\\x9c'"
   ]
  },
  {
   "cell_type": "code",
   "execution_count": 19,
   "metadata": {
    "collapsed": false
   },
   "outputs": [
    {
     "name": "stdout",
     "output_type": "stream",
     "text": [
      "[1, 2, 5, 8]\n",
      "[2, 5, 1, 8]\n",
      "[1, 2, 5, 8]\n"
     ]
    }
   ],
   "source": [
    "xs = [2, 5, 1, 8]\n",
    "print sorted(xs)  # 元のリストはノータッチ\n",
    "print xs\n",
    "xs.sort()  # 元のリストを変更\n",
    "print xs"
   ]
  },
  {
   "cell_type": "code",
   "execution_count": 20,
   "metadata": {
    "collapsed": false
   },
   "outputs": [
    {
     "name": "stdout",
     "output_type": "stream",
     "text": [
      "[('flower', 50), ('alice', 385), ('rabbit', 43)]\n"
     ]
    }
   ],
   "source": [
    "d = {'alice': 385, 'rabbit': 43, 'flower': 50}\n",
    "print list(d.items())  # (key, value) ペアのリスト"
   ]
  },
  {
   "cell_type": "code",
   "execution_count": 21,
   "metadata": {
    "collapsed": false
   },
   "outputs": [
    {
     "name": "stdout",
     "output_type": "stream",
     "text": [
      "[(50, 'flower'), (385, 'alice'), (43, 'rabbit')]\n"
     ]
    }
   ],
   "source": [
    "print [(value, key) for (key, value) in d.items()]"
   ]
  },
  {
   "cell_type": "code",
   "execution_count": 22,
   "metadata": {
    "collapsed": false
   },
   "outputs": [
    {
     "data": {
      "text/plain": [
       "False"
      ]
     },
     "execution_count": 22,
     "metadata": {},
     "output_type": "execute_result"
    }
   ],
   "source": [
    "(50, 'flower') > (385, 'alice')"
   ]
  },
  {
   "cell_type": "code",
   "execution_count": 23,
   "metadata": {
    "collapsed": false
   },
   "outputs": [
    {
     "name": "stdout",
     "output_type": "stream",
     "text": [
      "[(43, 'rabbit'), (50, 'flower'), (385, 'alice')]\n"
     ]
    }
   ],
   "source": [
    "print sorted([(value, key) for (key, value) in d.items()])"
   ]
  },
  {
   "cell_type": "code",
   "execution_count": 24,
   "metadata": {
    "collapsed": false
   },
   "outputs": [
    {
     "name": "stdout",
     "output_type": "stream",
     "text": [
      "[(385, 'alice'), (50, 'flower'), (43, 'rabbit')]\n"
     ]
    }
   ],
   "source": [
    "print sorted([(value, key) for (key, value) in d.items()], reverse=True)"
   ]
  },
  {
   "cell_type": "code",
   "execution_count": 25,
   "metadata": {
    "collapsed": false
   },
   "outputs": [
    {
     "name": "stdout",
     "output_type": "stream",
     "text": [
      "[(462, 'said'), (385, 'alice'), (128, 'little'), (102, 'one'), (86, 'project'), (86, 'know'), (85, 'like'), (83, 'would'), (83, 'went'), (78, 'could'), (74, 'thought'), (69, 'see'), (68, 'time'), (68, 'queen'), (61, 'king'), (60, 'well'), (60, 'dont'), (58, 'began'), (57, 'im'), (56, 'turtle'), (56, 'mock'), (56, 'gutenbergtm'), (55, 'quite'), (55, 'hatter'), (55, 'gryphon'), (54, 'way'), (54, 'must'), (53, 'work'), (53, 'think'), (52, 'much')]\n"
     ]
    }
   ],
   "source": [
    "print sorted([(value, key) for (key, value) in count.items()], reverse=True)[:30]"
   ]
  },
  {
   "cell_type": "markdown",
   "metadata": {},
   "source": [
    "## まとめ ~ 簡単な自然言語処理 ~\n",
    "- 小文字への変換\n",
    "- 句読点の除去\n",
    "- ストップワードを無視\n",
    "- Tokenization (単語ごとに区切る ← 日本語の場合には MeCab などのライブラリーを使う)\n",
    "- [Stemming](http://www.nltk.org/api/nltk.stem.html) (今回は行わなかったが、_computer_ と _computing_ のように語幹が同じ単語を同一視する処理)"
   ]
  },
  {
   "cell_type": "markdown",
   "metadata": {},
   "source": [
    "## 番外編 ~ Zipf の法則 ~\n",
    "[Wikipedia より](https://ja.wikipedia.org/wiki/%E3%82%B8%E3%83%83%E3%83%97%E3%81%AE%E6%B3%95%E5%89%87)"
   ]
  },
  {
   "cell_type": "code",
   "execution_count": 26,
   "metadata": {
    "collapsed": true
   },
   "outputs": [],
   "source": [
    "count_all = {}\n",
    "with open('11-0.txt') as f:\n",
    "    for line in f:\n",
    "        line = line.strip().lower()\n",
    "        words = ''.join([c for c in line if c not in punctuation]).split()\n",
    "        for word in words:\n",
    "            if not word.isdigit():  # stopwords も含めてカウントする\n",
    "                count_all[word] = count_all.get(word, 0) + 1"
   ]
  },
  {
   "cell_type": "code",
   "execution_count": 27,
   "metadata": {
    "collapsed": false
   },
   "outputs": [
    {
     "data": {
      "text/plain": [
       "<matplotlib.text.Text at 0x6d1a588>"
      ]
     },
     "execution_count": 27,
     "metadata": {},
     "output_type": "execute_result"
    },
    {
     "data": {
      "image/png": "[encoded data removed]",
      "text/plain": [
       "<matplotlib.figure.Figure at 0x4740e80>"
      ]
     },
     "metadata": {},
     "output_type": "display_data"
    }
   ],
   "source": [
    "import matplotlib.pyplot as plt\n",
    "% matplotlib inline\n",
    "# ↑ Jupyter でプロットをインライン表示するためのおまじない\n",
    "\n",
    "freqs = sorted(count_all.values(), reverse=True)\n",
    "ranks = range(1, len(freqs) + 1)\n",
    "plt.plot(ranks, freqs)\n",
    "plt.xscale('log')\n",
    "plt.yscale('log')\n",
    "plt.xlabel('Rank')\n",
    "plt.ylabel('Frequency of words')"
   ]
  },
  {
   "cell_type": "code",
   "execution_count": null,
   "metadata": {
    "collapsed": true
   },
   "outputs": [],
   "source": []
  }
 ],
 "metadata": {
  "anaconda-cloud": {},
  "kernelspec": {
   "display_name": "Python [Root]",
   "language": "python",
   "name": "Python [Root]"
  },
  "language_info": {
   "codemirror_mode": {
    "name": "ipython",
    "version": 2
   },
   "file_extension": ".py",
   "mimetype": "text/x-python",
   "name": "python",
   "nbconvert_exporter": "python",
   "pygments_lexer": "ipython2",
   "version": "2.7.12"
  }
 },
 "nbformat": 4,
 "nbformat_minor": 0
}
